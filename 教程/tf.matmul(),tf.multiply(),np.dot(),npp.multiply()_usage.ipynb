{
 "cells": [
  {
   "cell_type": "code",
   "execution_count": 1,
   "metadata": {},
   "outputs": [
    {
     "name": "stderr",
     "output_type": "stream",
     "text": [
      "d:\\python\\lib\\site-packages\\h5py\\__init__.py:36: FutureWarning: Conversion of the second argument of issubdtype from `float` to `np.floating` is deprecated. In future, it will be treated as `np.float64 == np.dtype(float).type`.\n",
      "  from ._conv import register_converters as _register_converters\n"
     ]
    }
   ],
   "source": [
    "import tensorflow as tf\n",
    "import numpy as np"
   ]
  },
  {
   "cell_type": "code",
   "execution_count": 2,
   "metadata": {},
   "outputs": [
    {
     "name": "stdout",
     "output_type": "stream",
     "text": [
      "x (3, 3)\n",
      "y (3, 3)\n"
     ]
    }
   ],
   "source": [
    "x=tf.constant([[1,2,3],[1,2,3],[1,2,3]])\n",
    "print('x',x.shape)\n",
    "y=tf.constant([[2,1,1],[2,1,1],[2,1,1]])###这两个是tensor\n",
    "print('y',y.shape)\n",
    "x1=([[1,2,3],[1,2,3],[1,2,3]])\n",
    "y1=([[2,1,1],[2,1,1],[2,1,1]])"
   ]
  },
  {
   "cell_type": "code",
   "execution_count": 3,
   "metadata": {},
   "outputs": [
    {
     "data": {
      "text/plain": [
       "<tf.Tensor 'Const:0' shape=(3, 3) dtype=int32>"
      ]
     },
     "execution_count": 3,
     "metadata": {},
     "output_type": "execute_result"
    }
   ],
   "source": [
    "x"
   ]
  },
  {
   "cell_type": "code",
   "execution_count": 4,
   "metadata": {},
   "outputs": [
    {
     "data": {
      "text/plain": [
       "<tf.Tensor 'Const_1:0' shape=(3, 3) dtype=int32>"
      ]
     },
     "execution_count": 4,
     "metadata": {},
     "output_type": "execute_result"
    }
   ],
   "source": [
    "y"
   ]
  },
  {
   "cell_type": "code",
   "execution_count": 5,
   "metadata": {},
   "outputs": [
    {
     "data": {
      "text/plain": [
       "[[1, 2, 3], [1, 2, 3], [1, 2, 3]]"
      ]
     },
     "execution_count": 5,
     "metadata": {},
     "output_type": "execute_result"
    }
   ],
   "source": [
    "x1"
   ]
  },
  {
   "cell_type": "code",
   "execution_count": 6,
   "metadata": {},
   "outputs": [
    {
     "data": {
      "text/plain": [
       "[[2, 1, 1], [2, 1, 1], [2, 1, 1]]"
      ]
     },
     "execution_count": 6,
     "metadata": {},
     "output_type": "execute_result"
    }
   ],
   "source": [
    "y1"
   ]
  },
  {
   "cell_type": "code",
   "execution_count": 3,
   "metadata": {},
   "outputs": [
    {
     "name": "stdout",
     "output_type": "stream",
     "text": [
      "z (3, 3)\n",
      "z1 (3, 3)\n",
      "dot\n",
      " [[12  6  6]\n",
      " [12  6  6]\n",
      " [12  6  6]]\n",
      "np.multiply\n",
      " [[2 2 3]\n",
      " [2 2 3]\n",
      " [2 2 3]]\n"
     ]
    }
   ],
   "source": [
    "z=tf.multiply(x,y)   ## element_wise\n",
    "z1=tf.matmul(x,y)    # 矩阵乘法\n",
    "print('z',z.shape)\n",
    "print('z1',z1.shape)\n",
    "z2 = np.dot(x1,y1)     # 矩阵乘法\n",
    "print('dot\\n',z2)\n",
    "z3 = np.multiply(x1,y1)   ## element_wise\n",
    "print('np.multiply\\n',z3)"
   ]
  },
  {
   "cell_type": "code",
   "execution_count": 12,
   "metadata": {
    "scrolled": true
   },
   "outputs": [
    {
     "name": "stdout",
     "output_type": "stream",
     "text": [
      "tf.multiply\n",
      " [[2 2 3]\n",
      " [2 2 3]\n",
      " [2 2 3]]\n",
      "tf.matmul\n",
      " [[12  6  6]\n",
      " [12  6  6]\n",
      " [12  6  6]]\n",
      "[[2 2 3]\n",
      " [2 2 3]\n",
      " [2 2 3]]\n"
     ]
    }
   ],
   "source": [
    "with tf.Session() as sess:\n",
    "    print('tf.multiply\\n',sess.run(z))\n",
    "    print('tf.matmul\\n',sess.run(z1))\n",
    "    print(sess.run(np.dot(x,y)))###使用sess.run(np.dot(x,y))输出结果为点乘结果，直接计算np.dot(x1,y1)结果为矩阵乘法."
   ]
  },
  {
   "cell_type": "code",
   "execution_count": null,
   "metadata": {},
   "outputs": [],
   "source": []
  }
 ],
 "metadata": {
  "kernelspec": {
   "display_name": "Python 3",
   "language": "python",
   "name": "python3"
  },
  "language_info": {
   "codemirror_mode": {
    "name": "ipython",
    "version": 3
   },
   "file_extension": ".py",
   "mimetype": "text/x-python",
   "name": "python",
   "nbconvert_exporter": "python",
   "pygments_lexer": "ipython3",
   "version": "3.5.4"
  }
 },
 "nbformat": 4,
 "nbformat_minor": 2
}
