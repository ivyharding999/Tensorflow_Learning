{
 "cells": [
  {
   "cell_type": "markdown",
   "metadata": {},
   "source": [
    "## 卷积"
   ]
  },
  {
   "cell_type": "code",
   "execution_count": null,
   "metadata": {},
   "outputs": [],
   "source": [
    "import tensorflow as tf\n",
    "\n",
    "x1 = tf.constant(1.0, shape=[1, 5, 5, 3])\n",
    "x2 = tf.constant(1.0, shape=[1, 6, 6, 3])\n",
    "kernel = tf.constant(1.0, shape=[3, 3, 3, 1])\n",
    "y1 = tf.nn.conv2d(x1, kernel, strides=[1, 2, 2, 1], padding=\"SAME\")\n",
    "y2 = tf.nn.conv2d(x2, kernel, strides=[1, 2, 2, 1], padding=\"SAME\")"
   ]
  },
  {
   "cell_type": "code",
   "execution_count": 2,
   "metadata": {},
   "outputs": [
    {
     "name": "stdout",
     "output_type": "stream",
     "text": [
      "(1, 3, 3, 1)\n",
      "(1, 3, 3, 1)\n"
     ]
    }
   ],
   "source": [
    "sess = tf.Session()\n",
    "tf.global_variables_initializer().run(session=sess)\n",
    "x1_cov,  x2_cov = sess.run([y1, y2])\n",
    "\n",
    "print(x1_cov.shape)   # floor(5/2)=3\n",
    "print(x2_cov.shape)   # floor(6/2)=3"
   ]
  },
  {
   "cell_type": "markdown",
   "metadata": {},
   "source": [
    "## 反卷积"
   ]
  },
  {
   "cell_type": "code",
   "execution_count": 3,
   "metadata": {},
   "outputs": [],
   "source": [
    "import tensorflow as tf\n",
    "\n",
    "x1 = tf.constant(1.0, shape=[1, 5, 5, 3])\n",
    "x2 = tf.constant(1.0, shape=[1, 6, 6, 3])\n",
    "kernel = tf.constant(1.0, shape=[3, 3, 3, 1])\n",
    "y1 = tf.nn.conv2d(x1, kernel, strides=[1, 2, 2, 1], padding=\"SAME\")\n",
    "y2 = tf.nn.conv2d(x2, kernel, strides=[1, 2, 2, 1], padding=\"SAME\")\n",
    "y3 = tf.nn.conv2d_transpose(y1,kernel,output_shape=[1,5,5,3],\n",
    "    strides=[1,2,2,1],padding=\"SAME\")\n",
    "y4 = tf.nn.conv2d_transpose(y2,kernel,output_shape=[1,6,6,3],\n",
    "    strides=[1,2,2,1],padding=\"SAME\")"
   ]
  },
  {
   "cell_type": "code",
   "execution_count": 4,
   "metadata": {},
   "outputs": [
    {
     "name": "stdout",
     "output_type": "stream",
     "text": [
      "(1, 3, 3, 1)\n",
      "(1, 3, 3, 1)\n",
      "(1, 5, 5, 3)\n",
      "(1, 6, 6, 3)\n"
     ]
    }
   ],
   "source": [
    "sess = tf.Session()\n",
    "tf.global_variables_initializer().run(session=sess)\n",
    "x1_cov,  x2_cov,y1_decov,y2_decov = sess.run([y1, y2,y3,y4])\n",
    "\n",
    "print(x1_cov.shape)   # floor(5/2)=3\n",
    "print(x2_cov.shape)   # floor(6/2)=3\n",
    "print(y1_decov.shape) # \n",
    "print(y2_decov.shape)"
   ]
  },
  {
   "cell_type": "markdown",
   "metadata": {},
   "source": [
    "## 空洞卷积"
   ]
  },
  {
   "cell_type": "code",
   "execution_count": 5,
   "metadata": {},
   "outputs": [],
   "source": [
    "import tensorflow as tf\n",
    "### tf.nn.atrous_conv2d(value, filters, rate, padding, name=None) rate为对输入的采样步长(sample stride).\n",
    "x1 = tf.constant(1.0, shape=[1, 5, 5, 3])\n",
    "kernel = tf.constant(1.0, shape=[3, 3, 3, 1])\n",
    "y5=tf.nn.atrous_conv2d(x1,kernel,10,'SAME')"
   ]
  },
  {
   "cell_type": "code",
   "execution_count": 6,
   "metadata": {},
   "outputs": [
    {
     "name": "stdout",
     "output_type": "stream",
     "text": [
      "(1, 5, 5, 1)\n"
     ]
    }
   ],
   "source": [
    "sess = tf.Session()\n",
    "tf.global_variables_initializer().run(session=sess)\n",
    "y5_dicov = sess.run(y5)\n",
    "\n",
    "print(y5_dicov.shape)"
   ]
  },
  {
   "cell_type": "code",
   "execution_count": null,
   "metadata": {},
   "outputs": [],
   "source": []
  }
 ],
 "metadata": {
  "kernelspec": {
   "display_name": "Python 3",
   "language": "python",
   "name": "python3"
  },
  "language_info": {
   "codemirror_mode": {
    "name": "ipython",
    "version": 3
   },
   "file_extension": ".py",
   "mimetype": "text/x-python",
   "name": "python",
   "nbconvert_exporter": "python",
   "pygments_lexer": "ipython3",
   "version": "3.5.4"
  }
 },
 "nbformat": 4,
 "nbformat_minor": 2
}
