{
 "cells": [
  {
   "cell_type": "code",
   "execution_count": 1,
   "metadata": {},
   "outputs": [
    {
     "name": "stderr",
     "output_type": "stream",
     "text": [
      "d:\\python\\lib\\site-packages\\h5py\\__init__.py:36: FutureWarning: Conversion of the second argument of issubdtype from `float` to `np.floating` is deprecated. In future, it will be treated as `np.float64 == np.dtype(float).type`.\n",
      "  from ._conv import register_converters as _register_converters\n"
     ]
    },
    {
     "name": "stdout",
     "output_type": "stream",
     "text": [
      "WARNING:tensorflow:From d:\\python\\lib\\site-packages\\tensorflow\\contrib\\learn\\python\\learn\\datasets\\base.py:198: retry (from tensorflow.contrib.learn.python.learn.datasets.base) is deprecated and will be removed in a future version.\n",
      "Instructions for updating:\n",
      "Use the retry module or similar alternatives.\n"
     ]
    }
   ],
   "source": [
    "import tensorflow as tf\n",
    "from tensorflow.examples.tutorials.mnist import input_data\n",
    "from datetime import datetime\n",
    "import matplotlib.pyplot as plt\n",
    "import numpy as np\n",
    "import xlwt\n",
    "import pickle"
   ]
  },
  {
   "cell_type": "code",
   "execution_count": 2,
   "metadata": {},
   "outputs": [
    {
     "name": "stdout",
     "output_type": "stream",
     "text": [
      "WARNING:tensorflow:From <ipython-input-2-b3b8835fef66>:1: read_data_sets (from tensorflow.contrib.learn.python.learn.datasets.mnist) is deprecated and will be removed in a future version.\n",
      "Instructions for updating:\n",
      "Please use alternatives such as official/mnist/dataset.py from tensorflow/models.\n",
      "WARNING:tensorflow:From d:\\python\\lib\\site-packages\\tensorflow\\contrib\\learn\\python\\learn\\datasets\\mnist.py:260: maybe_download (from tensorflow.contrib.learn.python.learn.datasets.base) is deprecated and will be removed in a future version.\n",
      "Instructions for updating:\n",
      "Please write your own downloading logic.\n",
      "WARNING:tensorflow:From d:\\python\\lib\\site-packages\\tensorflow\\contrib\\learn\\python\\learn\\datasets\\mnist.py:262: extract_images (from tensorflow.contrib.learn.python.learn.datasets.mnist) is deprecated and will be removed in a future version.\n",
      "Instructions for updating:\n",
      "Please use tf.data to implement this functionality.\n",
      "Extracting MNIST_data\\train-images-idx3-ubyte.gz\n",
      "WARNING:tensorflow:From d:\\python\\lib\\site-packages\\tensorflow\\contrib\\learn\\python\\learn\\datasets\\mnist.py:267: extract_labels (from tensorflow.contrib.learn.python.learn.datasets.mnist) is deprecated and will be removed in a future version.\n",
      "Instructions for updating:\n",
      "Please use tf.data to implement this functionality.\n",
      "Extracting MNIST_data\\train-labels-idx1-ubyte.gz\n",
      "WARNING:tensorflow:From d:\\python\\lib\\site-packages\\tensorflow\\contrib\\learn\\python\\learn\\datasets\\mnist.py:110: dense_to_one_hot (from tensorflow.contrib.learn.python.learn.datasets.mnist) is deprecated and will be removed in a future version.\n",
      "Instructions for updating:\n",
      "Please use tf.one_hot on tensors.\n",
      "Extracting MNIST_data\\t10k-images-idx3-ubyte.gz\n",
      "Extracting MNIST_data\\t10k-labels-idx1-ubyte.gz\n",
      "WARNING:tensorflow:From d:\\python\\lib\\site-packages\\tensorflow\\contrib\\learn\\python\\learn\\datasets\\mnist.py:290: DataSet.__init__ (from tensorflow.contrib.learn.python.learn.datasets.mnist) is deprecated and will be removed in a future version.\n",
      "Instructions for updating:\n",
      "Please use alternatives such as official/mnist/dataset.py from tensorflow/models.\n"
     ]
    }
   ],
   "source": [
    "mnist = input_data.read_data_sets('MNIST_data',one_hot=True)"
   ]
  },
  {
   "cell_type": "code",
   "execution_count": 3,
   "metadata": {},
   "outputs": [
    {
     "name": "stdout",
     "output_type": "stream",
     "text": [
      "(55000, 784)\n",
      "(55000, 10)\n",
      "(10000, 10)\n"
     ]
    }
   ],
   "source": [
    "print(mnist.train.images.shape)\n",
    "print(mnist.train.labels.shape)\n",
    "print(mnist.test.labels.shape)"
   ]
  },
  {
   "cell_type": "code",
   "execution_count": 4,
   "metadata": {},
   "outputs": [],
   "source": [
    "def add_layer(inputs,in_size,out_size,n_layer,activation_function=None):\n",
    "    layer_name='layer%s'%n_layer\n",
    "    with tf.name_scope(layer_name):\n",
    "        with tf.name_scope('weights'):\n",
    "            Weights = tf.Variable(tf.random_normal([in_size,out_size],dtype=tf.float32),name='W')##设权重初始值为随机生成的矩阵\n",
    "            tf.summary.histogram(layer_name+'/weights',Weights)  ##通过histogram显示\n",
    "        with tf.name_scope('biases'):   \n",
    "            biases = tf.Variable(tf.zeros([1,out_size])+0.1,name='b')  ##机器学习中推荐偏置初始值不为0,为什么是一行，n_out列，为啥不是反过来？？？\n",
    "            tf.summary.histogram(layer_name+'/biases',biases)\n",
    "            ###回答此问题，可以看看下面的公式\n",
    "        with tf.name_scope('Wx_plus_b'):\n",
    "            Wx_plus_b = tf.add(tf.matmul(inputs,Weights),biases)### x*W+B\n",
    "        if activation_function is None:\n",
    "            outputs = Wx_plus_b\n",
    "        else:\n",
    "            outputs = activation_function(Wx_plus_b)\n",
    "            tf.summary.histogram(layer_name+'/outputs',outputs)\n",
    "        return outputs   \n",
    "\n",
    "def model(X):\n",
    "    W1 = tf.get_variable('W1',[784,512],initializer=tf.contrib.layers.xavier_initializer())\n",
    "    b1 = tf.get_variable('b1',[512],initializer=tf.zeros_initializer())\n",
    "    W2 = tf.get_variable('W2',[512,128],initializer=tf.contrib.layers.xavier_initializer())\n",
    "    b2 = tf.get_variable('b2',[128],initializer=tf.zeros_initializer())\n",
    "    W3 = tf.get_variable('W3',[128,64],initializer=tf.contrib.layers.xavier_initializer())\n",
    "    b3 = tf.get_variable('b3',[64],initializer=tf.zeros_initializer())\n",
    "    W4 = tf.get_variable('W4',[64,10],initializer=tf.contrib.layers.xavier_initializer())\n",
    "    b4 = tf.get_variable('b4',[10],initializer=tf.zeros_initializer())\n",
    "\n",
    "    # 计算网络中间的logits（就是我们常用的Z）、激活值：全部都是全链接的关系\n",
    "    A1 = tf.nn.relu(tf.matmul(X,W1)+b1,name='A1')   \n",
    "    A2 = tf.nn.relu(tf.matmul(A1,W2)+b2,name='A2')\n",
    "    A3 = tf.nn.relu(tf.matmul(A2,W3)+b3,name='A3')\n",
    "    Z4 = tf.matmul(A3,W4)+b4   # 输出一定是未激活的函数\n",
    "    return Z4\n",
    "\n",
    "def compute_accuracy(v_xs,v_ys):\n",
    "    global prediction  #将prediction定义为全局变量\n",
    "    y_pre = sess.run(prediction,feed_dict={x:v_xs})  ##得到1行10列的数据，也就是[1,10]\n",
    "    correct_prediction = tf.equal(tf.argmax(y_pre,1),tf.argmax(v_ys,1))\n",
    "    ##取第二维概率最大的（这里索引了最大值的位置），同样标签为最大的值也是我真实的标签值（索引了位置）（我的标签是one_hot类型的）\n",
    "    ###判断预测和真实标签的index是否一样，一样就代表预测正确，否则就错误\n",
    "    accuracy = tf.reduce_mean(tf.cast(correct_prediction,tf.float32))\n",
    "    result = sess.run(accuracy,feed_dict={x:v_xs,y:v_ys})\n",
    "    return result"
   ]
  },
  {
   "cell_type": "code",
   "execution_count": 15,
   "metadata": {},
   "outputs": [
    {
     "name": "stdout",
     "output_type": "stream",
     "text": [
      "loss_val: 2018-12-05 20:19:13.938990    Iteration =  0   loss = 2.288\n",
      "loss_val: 2018-12-05 20:19:14.652455    Iteration =  50   loss = 0.463\n",
      "loss_val: 2018-12-05 20:19:15.217498    Iteration =  100   loss = 0.438\n",
      "loss_val: 2018-12-05 20:19:15.874197    Iteration =  150   loss = 0.152\n",
      "loss_val: 2018-12-05 20:19:16.488054    Iteration =  200   loss = 0.179\n",
      "loss_val: 2018-12-05 20:19:17.167129    Iteration =  250   loss = 0.137\n",
      "loss_val: 2018-12-05 20:19:17.834328    Iteration =  300   loss = 0.293\n",
      "loss_val: 2018-12-05 20:19:18.510198    Iteration =  350   loss = 0.118\n",
      "loss_val: 2018-12-05 20:19:19.217292    Iteration =  400   loss = 0.113\n",
      "loss_val: 2018-12-05 20:19:20.015576    Iteration =  450   loss = 0.164\n",
      "loss_val: 2018-12-05 20:19:21.016220    Iteration =  500   loss = 0.351\n",
      "loss_val: 2018-12-05 20:19:22.153279    Iteration =  550   loss = 0.022\n",
      "loss_val: 2018-12-05 20:19:22.983110    Iteration =  600   loss = 0.046\n",
      "loss_val: 2018-12-05 20:19:23.842583    Iteration =  650   loss = 0.150\n",
      "loss_val: 2018-12-05 20:19:24.721105    Iteration =  700   loss = 0.075\n",
      "loss_val: 2018-12-05 20:19:25.669846    Iteration =  750   loss = 0.256\n",
      "loss_val: 2018-12-05 20:19:26.765937    Iteration =  800   loss = 0.160\n",
      "loss_val: 2018-12-05 20:19:27.801370    Iteration =  850   loss = 0.331\n",
      "loss_val: 2018-12-05 20:19:28.796151    Iteration =  900   loss = 0.119\n",
      "loss_val: 2018-12-05 20:19:29.799638    Iteration =  950   loss = 0.060\n",
      "loss_val: 2018-12-05 20:19:30.855655    Iteration =  1000   loss = 0.110\n",
      "loss_val: 2018-12-05 20:19:32.272075    Iteration =  1050   loss = 0.077\n",
      "loss_val: 2018-12-05 20:19:33.363167    Iteration =  1100   loss = 0.037\n",
      "loss_val: 2018-12-05 20:19:34.459303    Iteration =  1150   loss = 0.131\n",
      "loss_val: 2018-12-05 20:19:35.580512    Iteration =  1200   loss = 0.019\n",
      "loss_val: 2018-12-05 20:19:36.725797    Iteration =  1250   loss = 0.088\n",
      "loss_val: 2018-12-05 20:19:37.982907    Iteration =  1300   loss = 0.091\n",
      "loss_val: 2018-12-05 20:19:39.241622    Iteration =  1350   loss = 0.022\n",
      "loss_val: 2018-12-05 20:19:40.496220    Iteration =  1400   loss = 0.035\n",
      "loss_val: 2018-12-05 20:19:41.949419    Iteration =  1450   loss = 0.098\n",
      "loss_val: 2018-12-05 20:19:43.211133    Iteration =  1500   loss = 0.048\n",
      "loss_val: 2018-12-05 20:19:44.701574    Iteration =  1550   loss = 0.119\n",
      "loss_val: 2018-12-05 20:19:46.155056    Iteration =  1600   loss = 0.046\n",
      "loss_val: 2018-12-05 20:19:47.483416    Iteration =  1650   loss = 0.033\n",
      "loss_val: 2018-12-05 20:19:48.841830    Iteration =  1700   loss = 0.052\n",
      "loss_val: 2018-12-05 20:19:50.218216    Iteration =  1750   loss = 0.042\n",
      "loss_val: 2018-12-05 20:19:51.732938    Iteration =  1800   loss = 0.079\n",
      "loss_val: 2018-12-05 20:19:53.242124    Iteration =  1850   loss = 0.093\n",
      "loss_val: 2018-12-05 20:19:54.702975    Iteration =  1900   loss = 0.025\n",
      "loss_val: 2018-12-05 20:19:56.228098    Iteration =  1950   loss = 0.024\n",
      "loss_val: 2018-12-05 20:19:57.765155    Iteration =  2000   loss = 0.067\n",
      "loss_val: 2018-12-05 20:19:59.648574    Iteration =  2050   loss = 0.095\n",
      "loss_val: 2018-12-05 20:20:01.216149    Iteration =  2100   loss = 0.013\n",
      "loss_val: 2018-12-05 20:20:03.040310    Iteration =  2150   loss = 0.014\n",
      "loss_val: 2018-12-05 20:20:04.635232    Iteration =  2200   loss = 0.026\n",
      "loss_val: 2018-12-05 20:20:06.299935    Iteration =  2250   loss = 0.088\n",
      "loss_val: 2018-12-05 20:20:07.931884    Iteration =  2300   loss = 0.010\n",
      "loss_val: 2018-12-05 20:20:09.604895    Iteration =  2350   loss = 0.008\n",
      "loss_val: 2018-12-05 20:20:11.296204    Iteration =  2400   loss = 0.009\n",
      "loss_val: 2018-12-05 20:20:13.042137    Iteration =  2450   loss = 0.011\n",
      "loss_val: 2018-12-05 20:20:14.781150    Iteration =  2500   loss = 0.032\n",
      "loss_val: 2018-12-05 20:20:16.820557    Iteration =  2550   loss = 0.004\n",
      "loss_val: 2018-12-05 20:20:18.670265    Iteration =  2600   loss = 0.004\n",
      "loss_val: 2018-12-05 20:20:20.688644    Iteration =  2650   loss = 0.108\n",
      "loss_val: 2018-12-05 20:20:22.782166    Iteration =  2700   loss = 0.014\n",
      "loss_val: 2018-12-05 20:20:24.712186    Iteration =  2750   loss = 0.008\n",
      "loss_val: 2018-12-05 20:20:26.825965    Iteration =  2800   loss = 0.011\n",
      "loss_val: 2018-12-05 20:20:28.843279    Iteration =  2850   loss = 0.045\n",
      "loss_val: 2018-12-05 20:20:30.860955    Iteration =  2900   loss = 0.034\n",
      "loss_val: 2018-12-05 20:20:32.990716    Iteration =  2950   loss = 0.006\n",
      "loss_val: 2018-12-05 20:20:35.031605    Iteration =  3000   loss = 0.008\n",
      "test_accuracy: 0.9796\n",
      "train_accuracy: 0.99463636\n"
     ]
    }
   ],
   "source": [
    "########################   train\n",
    "workbook = xlwt.Workbook() \n",
    "sheet = workbook.add_sheet(\"loss\") \n",
    "###define placeholder for inputs to network\n",
    "# 使用with.Graph().as_default():  可以避免我忘记关闭。\n",
    "with tf.Graph().as_default():\n",
    "    x = tf.placeholder(tf.float32,[None,784])  ##28*28，None表示其值大小不定，在这里作为第一个维度值，用以指代batch的大小，意即x的数量不定\n",
    "    y = tf.placeholder(tf.float32,[None,10])  ##10类输出\n",
    "    global_steps = tf.Variable(1, trainable=False)\n",
    "\n",
    "#     prediction = add_layer(x,784,10,n_layer=5,activation_function=tf.nn.softmax)##softmax一般是用来做分类的\n",
    "    prediction = model(x)\n",
    "#     cross_entropy = tf.reduce_mean(-tf.reduce_sum(ys*tf.log(prediction),reduction_indices=[1]))##loss\n",
    "    cost = tf.reduce_mean(tf.nn.softmax_cross_entropy_with_logits(logits=prediction,labels=y))\n",
    "    train_step = tf.train.GradientDescentOptimizer(0.5).minimize(cost,global_step=global_steps)\n",
    "    saver = tf.train.Saver()\n",
    "    costs = []   ##### 一直出现一个问题，这个和上面的损失函数重名了\n",
    "    \n",
    "    format_str = \"%s    Iteration =  %d   loss = %0.3f\"\n",
    "    with tf.Session() as sess:\n",
    "        sess.run(tf.global_variables_initializer())\n",
    "        \n",
    "        for i in range(3000+1):\n",
    "            batch_x,batch_y = mnist.train.next_batch(batch_size=100)\n",
    "            loss_val,_ = sess.run([cost,train_step],feed_dict={x:batch_x,y:batch_y})\n",
    "            costs.append(loss_val)\n",
    "            sheet.write(i, 0, i)\n",
    "            loss_new = str(round(loss_val, 3))\n",
    "            sheet.write(i, 1, loss_new)\n",
    "            workbook.save('loss_记录.xls')\n",
    "         \n",
    "            if i % 50 == 0:\n",
    "                print('loss_val:',format_str%(datetime.now(), i, loss_val))\n",
    "\n",
    "            if i % 500 == 0:\n",
    "                checkpoint = 'saver_classification_练习/' + 'model.ckpt'\n",
    "                saver.save(sess, checkpoint,global_step=global_steps)\n",
    "        \n",
    "            if i % 3000 == 0:\n",
    "                write_file=open('E:/ivy_machine_learning/program/莫烦学习/teansorflow_learning/classification_loss.pkl','wb')  \n",
    "                pickle.dump(costs,write_file)  # 将数据存入pickle\n",
    "                write_file.close() \n",
    "        \n",
    "        ### 训练结束后，看下测试集和训练集上的正确率\n",
    "        print('test_accuracy:',compute_accuracy(mnist.test.images,mnist.test.labels))\n",
    "        print('train_accuracy:',compute_accuracy(mnist.train.images,mnist.train.labels))\n",
    "         "
   ]
  },
  {
   "cell_type": "code",
   "execution_count": 5,
   "metadata": {},
   "outputs": [
    {
     "name": "stdout",
     "output_type": "stream",
     "text": [
      "INFO:tensorflow:Restoring parameters from saver_classification_练习/model.ckpt-3002\n",
      "Training set accuracy:  0.99463636\n",
      "Test set accuracy: 0.9796\n",
      "true_label VS prediction: 7 7\n",
      "true_label VS prediction: 2 2\n",
      "true_label VS prediction: 1 1\n",
      "true_label VS prediction: 0 0\n",
      "true_label VS prediction: 0 0\n",
      "true_label VS prediction: 6 6\n",
      "true_label VS prediction: 9 9\n",
      "true_label VS prediction: 0 0\n",
      "true_label VS prediction: 9 9\n",
      "true_label VS prediction: 6 6\n",
      "true_label VS prediction: 6 6\n",
      "true_label VS prediction: 5 5\n",
      "true_label VS prediction: 3 3\n",
      "true_label VS prediction: 1 1\n",
      "true_label VS prediction: 3 3\n",
      "true_label VS prediction: 4 4\n"
     ]
    },
    {
     "data": {
      "image/png": "[encoded data removed]",
      "text/plain": [
       "<Figure size 1080x1080 with 16 Axes>"
      ]
     },
     "metadata": {},
     "output_type": "display_data"
    }
   ],
   "source": [
    "####测试\n",
    "with tf.Graph().as_default():\n",
    "    x = tf.placeholder(tf.float32,[None,784])  ##28*28，None表示其值大小不定，在这里作为第一个维度值，用以指代batch的大小，意即x的数量不定\n",
    "    y = tf.placeholder(tf.float32,[None,10])  ##10类输出f.float32,[None,40],name='Y')  ##40类输出\n",
    "#     prediction = add_layer(xs,784,10,n_layer=1,activation_function=tf.nn.softmax)##softmax一般是用来做分类的\n",
    "    prediction = model(x)\n",
    "    saver = tf.train.Saver()\n",
    "    with tf.Session() as sess:\n",
    "        saver.restore(sess, 'saver_classification_练习/model.ckpt-3002')\n",
    "        pre = sess.run(prediction,feed_dict={x:mnist.test.images})\n",
    "        print(\"Training set accuracy: \",compute_accuracy(mnist.train.images,mnist.train.labels))\n",
    "        print(\"Test set accuracy:\",compute_accuracy(mnist.test.images,mnist.test.labels))\n",
    "        # 随机从测试集中抽一些图片（比如第i+j张图片），然后取出对应的预测（即z3[i+j]）：\n",
    "        fig,ax = plt.subplots(4,4,figsize=(15,15))\n",
    "        fig.subplots_adjust(wspace=0.1, hspace=0.7)\n",
    "        for i in range(4):\n",
    "            for j in range(4):\n",
    "                ax[i,j].imshow(mnist.test.images[10*i+j].reshape(28,28),'gray')\n",
    "                # 用argmax函数取出z4中最大的数的序号，即为预测结果：\n",
    "                predicted_num  = np.argmax(pre[10*i+j]) \n",
    "                true_label = list(mnist.test.labels[10*i+j]).index(1)\n",
    "                print(\"true_label VS prediction:\",true_label,predicted_num)\n",
    "                # 这里不能用tf.argmax，因为所有的tf操作都是在图中，没法直接取出来\n",
    "                ax[i,j].set_title('Predict:'+str(predicted_num))\n",
    "                ax[i,j].axis('off')"
   ]
  },
  {
   "cell_type": "code",
   "execution_count": 12,
   "metadata": {},
   "outputs": [],
   "source": [
    "image = mnist.test.images[3]"
   ]
  },
  {
   "cell_type": "code",
   "execution_count": 13,
   "metadata": {},
   "outputs": [
    {
     "data": {
      "text/plain": [
       "(784,)"
      ]
     },
     "execution_count": 13,
     "metadata": {},
     "output_type": "execute_result"
    }
   ],
   "source": [
    "image.shape"
   ]
  },
  {
   "cell_type": "code",
   "execution_count": 14,
   "metadata": {},
   "outputs": [],
   "source": [
    "img  = np.reshape(image,[28,28])"
   ]
  },
  {
   "cell_type": "code",
   "execution_count": 16,
   "metadata": {},
   "outputs": [
    {
     "data": {
      "image/png": "[encoded data removed]",
      "text/plain": [
       "<Figure size 432x288 with 1 Axes>"
      ]
     },
     "metadata": {},
     "output_type": "display_data"
    }
   ],
   "source": [
    "plt.imshow(img,'gray')\n",
    "plt.show()"
   ]
  },
  {
   "cell_type": "markdown",
   "metadata": {},
   "source": [
    "## 写数据进入excel"
   ]
  },
  {
   "cell_type": "code",
   "execution_count": 9,
   "metadata": {},
   "outputs": [],
   "source": [
    "import random\n",
    "def random_int_list(start, stop, length):\n",
    "  start, stop = (int(start), int(stop)) if start <= stop else (int(stop), int(start))\n",
    "  length = int(abs(length)) if length else 0\n",
    "  random_list = []\n",
    "  for i in range(length):\n",
    "    random_list.append(random.randint(start, stop))\n",
    "  return random_list"
   ]
  },
  {
   "cell_type": "code",
   "execution_count": 10,
   "metadata": {},
   "outputs": [],
   "source": [
    "a = random_int_list(1,100,30)"
   ]
  },
  {
   "cell_type": "code",
   "execution_count": 14,
   "metadata": {},
   "outputs": [],
   "source": [
    "import xlwt\n",
    "import random\n",
    "workbook = xlwt.Workbook() \n",
    "sheet = workbook.add_sheet(\"data\") \n",
    "for i in range(30):\n",
    "    sheet.write(i, 0, i)\n",
    "    sheet.write(i, 1, a[i])\n",
    "    workbook.save('Excel_数据2.xls')"
   ]
  },
  {
   "cell_type": "markdown",
   "metadata": {},
   "source": [
    "## 读pickle的内容，画损失函数"
   ]
  },
  {
   "cell_type": "code",
   "execution_count": 38,
   "metadata": {},
   "outputs": [],
   "source": [
    "read_file1=open('E:/ivy_machine_learning/program/莫烦学习/teansorflow_learning/手写数字识别/classification_loss.pkl','rb')  \n",
    "read_file2=open('E:/ivy_machine_learning/program/莫烦学习/人脸识别/faces_loss1.pkl','rb')   \n",
    "\n",
    "loss1 = pickle.load(read_file1)  # 这时候loss是个list\n",
    "loss2 = pickle.load(read_file2)  # 这时候loss是个list\n",
    "read_file.close() "
   ]
  },
  {
   "cell_type": "code",
   "execution_count": 39,
   "metadata": {},
   "outputs": [
    {
     "data": {
      "text/plain": [
       "3001"
      ]
     },
     "execution_count": 39,
     "metadata": {},
     "output_type": "execute_result"
    }
   ],
   "source": [
    "len(loss1)"
   ]
  },
  {
   "cell_type": "code",
   "execution_count": 41,
   "metadata": {},
   "outputs": [
    {
     "data": {
      "text/plain": [
       "51"
      ]
     },
     "execution_count": 41,
     "metadata": {},
     "output_type": "execute_result"
    }
   ],
   "source": [
    "len(loss2)"
   ]
  },
  {
   "cell_type": "code",
   "execution_count": 40,
   "metadata": {},
   "outputs": [
    {
     "data": {
      "image/png": "[encoded data removed]",
      "text/plain": [
       "<Figure size 1440x720 with 1 Axes>"
      ]
     },
     "metadata": {},
     "output_type": "display_data"
    }
   ],
   "source": [
    "plt.figure(figsize=(20,10))\n",
    "plt.plot(loss1)\n",
    "plt.plot(loss2)\n",
    "plt.ylabel('loss')\n",
    "plt.show()"
   ]
  },
  {
   "cell_type": "code",
   "execution_count": 35,
   "metadata": {},
   "outputs": [],
   "source": [
    "read_file=open('E:/ivy_machine_learning/program/莫烦学习/人脸识别/faces_loss1.pkl','rb')   \n",
    "loss = pickle.load(read_file)  # 这时候loss是个list\n",
    "read_file.close() "
   ]
  },
  {
   "cell_type": "code",
   "execution_count": 37,
   "metadata": {},
   "outputs": [
    {
     "data": {
      "image/png": "[encoded data removed]",
      "text/plain": [
       "<Figure size 432x288 with 1 Axes>"
      ]
     },
     "metadata": {},
     "output_type": "display_data"
    }
   ],
   "source": [
    "# plt.figure(figsize=(20,10))\n",
    "plt.plot(loss)\n",
    "plt.ylabel('loss')\n",
    "plt.show()"
   ]
  },
  {
   "cell_type": "code",
   "execution_count": null,
   "metadata": {},
   "outputs": [],
   "source": []
  }
 ],
 "metadata": {
  "kernelspec": {
   "display_name": "Python 3",
   "language": "python",
   "name": "python3"
  },
  "language_info": {
   "codemirror_mode": {
    "name": "ipython",
    "version": 3
   },
   "file_extension": ".py",
   "mimetype": "text/x-python",
   "name": "python",
   "nbconvert_exporter": "python",
   "pygments_lexer": "ipython3",
   "version": "3.5.4"
  }
 },
 "nbformat": 4,
 "nbformat_minor": 2
}
