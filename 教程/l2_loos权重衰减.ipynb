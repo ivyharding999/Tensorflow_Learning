{
 "cells": [
  {
   "cell_type": "code",
   "execution_count": 1,
   "metadata": {},
   "outputs": [
    {
     "name": "stderr",
     "output_type": "stream",
     "text": [
      "d:\\python\\lib\\site-packages\\h5py\\__init__.py:36: FutureWarning: Conversion of the second argument of issubdtype from `float` to `np.floating` is deprecated. In future, it will be treated as `np.float64 == np.dtype(float).type`.\n",
      "  from ._conv import register_converters as _register_converters\n"
     ]
    }
   ],
   "source": [
    "import tensorflow as tf\n",
    "import numpy as np"
   ]
  },
  {
   "cell_type": "code",
   "execution_count": 2,
   "metadata": {},
   "outputs": [],
   "source": [
    "a = np.zeros(shape=[10, 5, 1], dtype=np.float32)   # 50个数据\n",
    "b = np.ones(shape=[10, 5, 1], dtype=np.float32)    # 50个数据\n",
    "c = b * 2"
   ]
  },
  {
   "cell_type": "code",
   "execution_count": 3,
   "metadata": {},
   "outputs": [],
   "source": [
    "# tf.nn.l2_loss(a-b) = sum((a-b)**2) / 2\n",
    "loss_1 = tf.Session().run(tf.nn.l2_loss(a-b))\n",
    "loss_2 = tf.Session().run(tf.nn.l2_loss(a-c))"
   ]
  },
  {
   "cell_type": "code",
   "execution_count": 4,
   "metadata": {},
   "outputs": [],
   "source": [
    "l_1 = (((0-1) ** 2) * 50) / 2\n",
    "l_2 = (((0-2) ** 2) * 50) / 2"
   ]
  },
  {
   "cell_type": "code",
   "execution_count": 5,
   "metadata": {},
   "outputs": [
    {
     "name": "stdout",
     "output_type": "stream",
     "text": [
      "tf.nn.l2_loss(a-b) =  25.0\n",
      "tf.nn.l2_loss(a-c) =  100.0\n"
     ]
    }
   ],
   "source": [
    "print ('tf.nn.l2_loss(a-b) = ', loss_1)\n",
    "print ('tf.nn.l2_loss(a-c) = ', loss_2)"
   ]
  },
  {
   "cell_type": "code",
   "execution_count": 6,
   "metadata": {},
   "outputs": [],
   "source": [
    "assert loss_1 == l_1 and loss_2 == l_2"
   ]
  },
  {
   "cell_type": "code",
   "execution_count": null,
   "metadata": {},
   "outputs": [],
   "source": []
  }
 ],
 "metadata": {
  "kernelspec": {
   "display_name": "Python 3",
   "language": "python",
   "name": "python3"
  },
  "language_info": {
   "codemirror_mode": {
    "name": "ipython",
    "version": 3
   },
   "file_extension": ".py",
   "mimetype": "text/x-python",
   "name": "python",
   "nbconvert_exporter": "python",
   "pygments_lexer": "ipython3",
   "version": "3.5.4"
  }
 },
 "nbformat": 4,
 "nbformat_minor": 2
}
