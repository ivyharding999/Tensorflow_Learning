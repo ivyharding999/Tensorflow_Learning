{
 "cells": [
  {
   "cell_type": "code",
   "execution_count": 1,
   "metadata": {},
   "outputs": [
    {
     "name": "stderr",
     "output_type": "stream",
     "text": [
      "d:\\python\\lib\\site-packages\\h5py\\__init__.py:36: FutureWarning: Conversion of the second argument of issubdtype from `float` to `np.floating` is deprecated. In future, it will be treated as `np.float64 == np.dtype(float).type`.\n",
      "  from ._conv import register_converters as _register_converters\n"
     ]
    }
   ],
   "source": [
    "import numpy as np\n",
    "import tensorflow as tf\n",
    "import matplotlib.pyplot as plt"
   ]
  },
  {
   "cell_type": "code",
   "execution_count": 2,
   "metadata": {},
   "outputs": [],
   "source": [
    "ACTIVATION = tf.nn.relu\n",
    "N_LAYERS = 7\n",
    "N_HIDDEN_UNITS = 30"
   ]
  },
  {
   "cell_type": "code",
   "execution_count": 3,
   "metadata": {},
   "outputs": [],
   "source": [
    "##重复观看同一个东西的功能\n",
    "def fix_seed(seed=1):\n",
    "    # reproducible\n",
    "    np.random.seed(seed)\n",
    "    tf.set_random_seed(seed)   "
   ]
  },
  {
   "cell_type": "code",
   "execution_count": 4,
   "metadata": {},
   "outputs": [],
   "source": [
    "##观看图，那种很形象的柱状图\n",
    "def plot_his(inputs,inputs_norm):\n",
    "    # plot histogram for the inputs of every layer\n",
    "    for j, all_inputs in enumerate([inputs, inputs_norm]):\n",
    "        for i, input in enumerate(all_inputs):\n",
    "            plt.subplot(2, len(all_inputs), j*len(all_inputs)+(i+1))\n",
    "            plt.cla()\n",
    "            if i == 0:\n",
    "                the_range = (-7, 10)\n",
    "            else:\n",
    "                the_range = (-1, 1)\n",
    "            plt.hist(input.ravel(), bins=15, range=the_range, color='#FF5733')\n",
    "            plt.yticks(())\n",
    "            if j == 1:\n",
    "                plt.xticks(the_range)\n",
    "            else:\n",
    "                plt.xticks(())\n",
    "            ax = plt.gca()\n",
    "            ax.spines['right'].set_color('none')\n",
    "            ax.spines['top'].set_color('none')\n",
    "        plt.title(\"%s normalizing\" % (\"Without\" if j == 0 else \"With\"))\n",
    "    plt.draw()\n",
    "    plt.pause(0.01)    "
   ]
  },
  {
   "cell_type": "code",
   "execution_count": 9,
   "metadata": {},
   "outputs": [],
   "source": [
    "##建立网络\n",
    "def built_net(xs, ys, norm):\n",
    "    def add_layer(inputs, in_size, out_size, activation_function=None, norm=False):\n",
    "        # weights and biases (bad initialization for this case)\n",
    "        Weights = tf.Variable(tf.random_normal([in_size, out_size], mean=0., stddev=1.))\n",
    "        biases = tf.Variable(tf.zeros([1, out_size]) + 0.1)\n",
    "        # fully connected product\n",
    "        Wx_plus_b = tf.matmul(inputs, Weights) + biases\n",
    "\n",
    "        # normalize fully connected product BN的操作过程（有没有都可以）\n",
    "    \n",
    "        if norm:\n",
    "            # Batch Normalize\n",
    "            fc_mean, fc_var = tf.nn.moments(\n",
    "                Wx_plus_b,\n",
    "                axes=[0],   # the dimension you wanna normalize, here [0] for batch\n",
    "                            # for image, you wanna do [0, 1, 2] for [batch, height, width] but not channel\n",
    "            )\n",
    "            scale = tf.Variable(tf.ones([out_size]))\n",
    "            shift = tf.Variable(tf.zeros([out_size]))\n",
    "            epsilon = 0.001\n",
    "            '''\n",
    "             # apply moving average for mean and var when train on batch\n",
    "            ema = tf.train.ExponentialMovingAverage(decay=0.5)\n",
    "            def mean_var_with_update():\n",
    "                ema_apply_op = ema.apply([fc_mean, fc_var])\n",
    "                with tf.control_dependencies([ema_apply_op]):\n",
    "                    return tf.identity(fc_mean), tf.identity(fc_var)\n",
    "            mean, var = mean_var_with_update()\n",
    "            '''\n",
    "           \n",
    "            #Wx_plus_b = tf.nn.batch_normalization(Wx_plus_b, mean, var, shift, scale, epsilon)\n",
    "            Wx_plus_b = tf.nn.batch_normalization(Wx_plus_b, fc_mean, fc_var, shift, scale, epsilon)\n",
    "            # similar with this two steps:\n",
    "            # Wx_plus_b = (Wx_plus_b - fc_mean) / tf.sqrt(fc_var + 0.001)\n",
    "            # Wx_plus_b = Wx_plus_b * scale + shift\n",
    "\n",
    "        # activation\n",
    "        if activation_function is None:\n",
    "            outputs = Wx_plus_b\n",
    "        else:\n",
    "            outputs = activation_function(Wx_plus_b)\n",
    "        return outputs\n",
    " \n",
    "    fix_seed(1)\n",
    "    ##对网络的输入进行BN操作\n",
    "    if norm:\n",
    "        # BN for the first input\n",
    "        fc_mean, fc_var = tf.nn.moments(xs,axes=[0])\n",
    "        scale = tf.Variable(tf.ones([1]))\n",
    "        shift = tf.Variable(tf.zeros([1]))\n",
    "        epsilon = 0.001\n",
    "        '''\n",
    "         # apply moving average for mean and var when train on batch\n",
    "        ema = tf.train.ExponentialMovingAverage(decay=0.5)\n",
    "        def mean_var_with_update():\n",
    "            ema_apply_op = ema.apply([fc_mean, fc_var])\n",
    "            with tf.control_dependencies([ema_apply_op]):\n",
    "                return tf.identity(fc_mean), tf.identity(fc_var)\n",
    "        mean, var = mean_var_with_update()\n",
    "        '''\n",
    "       \n",
    "        \n",
    "        #xs = tf.nn.batch_normalization(xs, mean, var, shift, scale, epsilon)\n",
    "        xs = tf.nn.batch_normalization(xs, fc_mean, fc_var, shift, scale, epsilon)\n",
    "    # record inputs for every layer，这个怎么记录的？？\n",
    "    layers_inputs = [xs]\n",
    "\n",
    "    # build hidden layers\n",
    "    for l_n in range(N_LAYERS):\n",
    "        layer_input = layers_inputs[l_n]\n",
    "        in_size = layers_inputs[l_n].get_shape()[1].value\n",
    "\n",
    "        output = add_layer(\n",
    "            layer_input,    # input\n",
    "            in_size,        # input size\n",
    "            N_HIDDEN_UNITS, # output size\n",
    "            ACTIVATION,     # activation function\n",
    "            norm,           # normalize before activation\n",
    "        )\n",
    "\n",
    "        layers_inputs.append(output)    # add output for next run\n",
    "\n",
    "    # build output layer\n",
    "    prediction = add_layer(layers_inputs[-1], 30, 1, activation_function=None)  ##这里的-1是什么意思？？\n",
    "    cost = tf.reduce_mean(tf.reduce_sum(tf.square(ys - prediction), reduction_indices=[1]))\n",
    "    train_op = tf.train.GradientDescentOptimizer(0.001).minimize(cost)\n",
    "    return [train_op, cost, layers_inputs]"
   ]
  },
  {
   "cell_type": "code",
   "execution_count": 10,
   "metadata": {},
   "outputs": [
    {
     "data": {
      "image/png": "[encoded data removed]",
      "text/plain": [
       "<Figure size 432x288 with 1 Axes>"
      ]
     },
     "metadata": {},
     "output_type": "display_data"
    }
   ],
   "source": [
    "##make up data\n",
    "fix_seed(1)\n",
    "x_data = np.linspace(-7, 10, 2500)[:, np.newaxis]\n",
    "np.random.shuffle(x_data)\n",
    "noise = np.random.normal(0, 8, x_data.shape)\n",
    "y_data = np.square(x_data) - 5 + noise\n",
    "# plot input data\n",
    "plt.scatter(x_data, y_data)\n",
    "plt.show()"
   ]
  },
  {
   "cell_type": "code",
   "execution_count": 11,
   "metadata": {},
   "outputs": [],
   "source": [
    "##建立图模型，搭建两个神经网络, 一个没有 BN, 一个有 BN:\n",
    "xs = tf.placeholder(tf.float32, [None, 1])  # [num_samples, num_features]\n",
    "ys = tf.placeholder(tf.float32, [None, 1])\n",
    "\n",
    "train_op, cost, layers_inputs = built_net(xs, ys, norm=False)   # without BN\n",
    "train_op_norm, cost_norm, layers_inputs_norm = built_net(xs, ys, norm=True) # with BN"
   ]
  },
  {
   "cell_type": "code",
   "execution_count": 12,
   "metadata": {},
   "outputs": [
    {
     "data": {
      "image/png": "[encoded data removed]",
      "text/plain": [
       "<Figure size 504x216 with 16 Axes>"
      ]
     },
     "metadata": {},
     "output_type": "display_data"
    },
    {
     "name": "stderr",
     "output_type": "stream",
     "text": [
      "d:\\python\\lib\\site-packages\\numpy\\lib\\function_base.py:780: RuntimeWarning: invalid value encountered in greater_equal\n",
      "  keep = (tmp_a >= first_edge)\n",
      "d:\\python\\lib\\site-packages\\numpy\\lib\\function_base.py:781: RuntimeWarning: invalid value encountered in less_equal\n",
      "  keep &= (tmp_a <= last_edge)\n"
     ]
    },
    {
     "data": {
      "image/png": "[encoded data removed]",
      "text/plain": [
       "<Figure size 432x288 with 16 Axes>"
      ]
     },
     "metadata": {},
     "output_type": "display_data"
    },
    {
     "data": {
      "image/png": "[encoded data removed]",
      "text/plain": [
       "<Figure size 432x288 with 16 Axes>"
      ]
     },
     "metadata": {},
     "output_type": "display_data"
    },
    {
     "data": {
      "image/png": "[encoded data removed]",
      "text/plain": [
       "<Figure size 432x288 with 16 Axes>"
      ]
     },
     "metadata": {},
     "output_type": "display_data"
    },
    {
     "data": {
      "image/png": "[encoded data removed]",
      "text/plain": [
       "<Figure size 432x288 with 16 Axes>"
      ]
     },
     "metadata": {},
     "output_type": "display_data"
    },
    {
     "data": {
      "image/png": "[encoded data removed]",
      "text/plain": [
       "<Figure size 432x288 with 1 Axes>"
      ]
     },
     "metadata": {},
     "output_type": "display_data"
    }
   ],
   "source": [
    "##会话\n",
    "sess = tf.Session()\n",
    "init = tf.global_variables_initializer()\n",
    "sess.run(init)\n",
    "# record cost\n",
    "cost_his = []\n",
    "cost_his_norm = []\n",
    "record_step = 5\n",
    "plt.ion()  ##打开交互模式\n",
    "plt.figure(figsize=(7, 3))\n",
    "for i in range(250):\n",
    "    if i % 50 == 0:\n",
    "        # plot histogram\n",
    "        all_inputs, all_inputs_norm = sess.run([layers_inputs, layers_inputs_norm], feed_dict={xs: x_data, ys: y_data})\n",
    "        plot_his(all_inputs, all_inputs_norm)\n",
    "\n",
    "    # train on batch\n",
    "    #sess.run([train_op, train_op_norm], feed_dict={xs: x_data[i*10:i*10+10], ys: y_data[i*10:i*10+10]})\n",
    "    sess.run([train_op, train_op_norm], feed_dict={xs: x_data, ys: y_data})\n",
    "    if i % record_step == 0:\n",
    "        # record cost\n",
    "        cost_his.append(sess.run(cost, feed_dict={xs: x_data, ys: y_data}))\n",
    "        cost_his_norm.append(sess.run(cost_norm, feed_dict={xs: x_data, ys: y_data}))\n",
    "##画出误差值的方法\n",
    "plt.ioff()  #关闭交互模式\n",
    "plt.figure()\n",
    "plt.plot(np.arange(len(cost_his))*record_step, np.array(cost_his), label='no BN')     # no norm\n",
    "plt.plot(np.arange(len(cost_his))*record_step, np.array(cost_his_norm), label='BN')   # norm\n",
    "plt.legend()\n",
    "plt.show()"
   ]
  },
  {
   "cell_type": "code",
   "execution_count": null,
   "metadata": {},
   "outputs": [],
   "source": []
  }
 ],
 "metadata": {
  "kernelspec": {
   "display_name": "Python 3",
   "language": "python",
   "name": "python3"
  },
  "language_info": {
   "codemirror_mode": {
    "name": "ipython",
    "version": 3
   },
   "file_extension": ".py",
   "mimetype": "text/x-python",
   "name": "python",
   "nbconvert_exporter": "python",
   "pygments_lexer": "ipython3",
   "version": "3.5.4"
  }
 },
 "nbformat": 4,
 "nbformat_minor": 2
}
