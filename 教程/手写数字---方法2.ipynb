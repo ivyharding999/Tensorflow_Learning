{
 "cells": [
  {
   "cell_type": "code",
   "execution_count": 1,
   "metadata": {},
   "outputs": [
    {
     "name": "stderr",
     "output_type": "stream",
     "text": [
      "d:\\python\\lib\\site-packages\\h5py\\__init__.py:36: FutureWarning: Conversion of the second argument of issubdtype from `float` to `np.floating` is deprecated. In future, it will be treated as `np.float64 == np.dtype(float).type`.\n",
      "  from ._conv import register_converters as _register_converters\n"
     ]
    },
    {
     "name": "stdout",
     "output_type": "stream",
     "text": [
      "WARNING:tensorflow:From d:\\python\\lib\\site-packages\\tensorflow\\contrib\\learn\\python\\learn\\datasets\\base.py:198: retry (from tensorflow.contrib.learn.python.learn.datasets.base) is deprecated and will be removed in a future version.\n",
      "Instructions for updating:\n",
      "Use the retry module or similar alternatives.\n"
     ]
    }
   ],
   "source": [
    "import tensorflow as tf\n",
    "from tensorflow.examples.tutorials.mnist import input_data\n",
    "import matplotlib.pyplot as plt\n",
    "from datetime import datetime"
   ]
  },
  {
   "cell_type": "code",
   "execution_count": 2,
   "metadata": {},
   "outputs": [
    {
     "name": "stdout",
     "output_type": "stream",
     "text": [
      "WARNING:tensorflow:From <ipython-input-2-b3b8835fef66>:1: read_data_sets (from tensorflow.contrib.learn.python.learn.datasets.mnist) is deprecated and will be removed in a future version.\n",
      "Instructions for updating:\n",
      "Please use alternatives such as official/mnist/dataset.py from tensorflow/models.\n",
      "WARNING:tensorflow:From d:\\python\\lib\\site-packages\\tensorflow\\contrib\\learn\\python\\learn\\datasets\\mnist.py:260: maybe_download (from tensorflow.contrib.learn.python.learn.datasets.base) is deprecated and will be removed in a future version.\n",
      "Instructions for updating:\n",
      "Please write your own downloading logic.\n",
      "WARNING:tensorflow:From d:\\python\\lib\\site-packages\\tensorflow\\contrib\\learn\\python\\learn\\datasets\\mnist.py:262: extract_images (from tensorflow.contrib.learn.python.learn.datasets.mnist) is deprecated and will be removed in a future version.\n",
      "Instructions for updating:\n",
      "Please use tf.data to implement this functionality.\n",
      "Extracting MNIST_data\\train-images-idx3-ubyte.gz\n",
      "WARNING:tensorflow:From d:\\python\\lib\\site-packages\\tensorflow\\contrib\\learn\\python\\learn\\datasets\\mnist.py:267: extract_labels (from tensorflow.contrib.learn.python.learn.datasets.mnist) is deprecated and will be removed in a future version.\n",
      "Instructions for updating:\n",
      "Please use tf.data to implement this functionality.\n",
      "Extracting MNIST_data\\train-labels-idx1-ubyte.gz\n",
      "WARNING:tensorflow:From d:\\python\\lib\\site-packages\\tensorflow\\contrib\\learn\\python\\learn\\datasets\\mnist.py:110: dense_to_one_hot (from tensorflow.contrib.learn.python.learn.datasets.mnist) is deprecated and will be removed in a future version.\n",
      "Instructions for updating:\n",
      "Please use tf.one_hot on tensors.\n",
      "Extracting MNIST_data\\t10k-images-idx3-ubyte.gz\n",
      "Extracting MNIST_data\\t10k-labels-idx1-ubyte.gz\n",
      "WARNING:tensorflow:From d:\\python\\lib\\site-packages\\tensorflow\\contrib\\learn\\python\\learn\\datasets\\mnist.py:290: DataSet.__init__ (from tensorflow.contrib.learn.python.learn.datasets.mnist) is deprecated and will be removed in a future version.\n",
      "Instructions for updating:\n",
      "Please use alternatives such as official/mnist/dataset.py from tensorflow/models.\n"
     ]
    }
   ],
   "source": [
    "mnist = input_data.read_data_sets('MNIST_data',one_hot=True)"
   ]
  },
  {
   "cell_type": "code",
   "execution_count": 3,
   "metadata": {},
   "outputs": [
    {
     "name": "stdout",
     "output_type": "stream",
     "text": [
      "(55000, 784)\n",
      "(55000, 10)\n",
      "(10000, 784)\n",
      "(10000, 10)\n"
     ]
    }
   ],
   "source": [
    "print(mnist.train.images.shape)\n",
    "print(mnist.train.labels.shape)\n",
    "print(mnist.test.images.shape)\n",
    "print(mnist.test.labels.shape)"
   ]
  },
  {
   "cell_type": "code",
   "execution_count": 4,
   "metadata": {},
   "outputs": [],
   "source": [
    "def compute_accuracy(v_xs, v_ys):\n",
    "    global prediction\n",
    "    y_pre = sess.run(prediction, feed_dict={xs: v_xs, keep_prob: 1})\n",
    "#     print('y_pre.shape:',y_pre.shape)   # 这个求出来一堆概率\n",
    "#     print(tf.argmax(y_pre,1))    # 这个就是找出概率这一列中取值最大的那个，也就是我要取得值。\n",
    "    correct_prediction = tf.equal(tf.argmax(y_pre,1), tf.argmax(v_ys,1))\n",
    "    accuracy = tf.reduce_mean(tf.cast(correct_prediction, tf.float32))\n",
    "    result = sess.run(accuracy, feed_dict={xs: v_xs, ys: v_ys, keep_prob: 1})\n",
    "    return result\n",
    "def weight_variable(shape):\n",
    "    inital = tf.truncated_normal(shape,stddev=0.1)\n",
    "    return tf.Variable(inital) \n",
    "def bias_variable(shape):\n",
    "    inital = tf.constant(0.1,shape=shape)##初始值为0.1\n",
    "    return tf.Variable(inital)  \n",
    "def conv2d(x,W):\n",
    "    ##strides=[batch,height,width,channel]，所以固定不动Batch和channel,只改变height和width的步长\n",
    "    return tf.nn.conv2d(x,W,strides=[1,1,1,1],padding='SAME') \n",
    "def max_pool_2(x):\n",
    "    ###kszie难道不是指核的大小？？？不是！！！！\n",
    "    return tf.nn.max_pool(x,ksize=[1,2,2,1],strides=[1,2,2,1],padding='SAME')  \n",
    "\n",
    "## conv1 layer ##\n",
    "def model(x_image):\n",
    "    W_conv1 = weight_variable([5,5,1,32]) ##patch5*5,in_size=1,out_size=32\n",
    "    b_conv1 = bias_variable([32])\n",
    "    conv1 = tf.nn.bias_add(conv2d(x_image,W_conv1),b_conv1)  ##output:28*28*32\n",
    "    conv1_relu = tf.nn.relu(conv1)   ##output:28*28*32\n",
    "    conv1_pool = max_pool_2(conv1_relu)  ##output:14*14*32\n",
    "\n",
    "    ## conv2 layer ##\n",
    "    W_conv2 = weight_variable([5,5,32,64]) ##patch5*5,in_size=32,out_size=64\n",
    "    b_conv2 = bias_variable([64])\n",
    "    conv2 = tf.nn.bias_add(conv2d(conv1_pool,W_conv2),b_conv2)  ##output:14*14*64\n",
    "    conv2_relu = tf.nn.relu(conv2)   ##output:14*14*64\n",
    "    conv2_pool = max_pool_2(conv2_relu)  ##output:7*7*64\n",
    "\n",
    "    ##func1 layer##\n",
    "    W_fc1 = weight_variable([7*7*64,1024])\n",
    "    b_fc1 = bias_variable([1024])\n",
    "    ##shape[n_sample,7,7,64]-->>[n_sample,7*7*64]\n",
    "    conv2_pool_flat = tf.reshape(conv2_pool,[-1,7*7*64])\n",
    "    fc1 = tf.matmul(conv2_pool_flat,W_fc1)+b_fc1\n",
    "    fc1_relu = tf.nn.relu(fc1)\n",
    "    fc1_relu_drop = tf.nn.dropout(fc1_relu,keep_prob)\n",
    "\n",
    "    ##func2 layer##\n",
    "    W_fc2 = weight_variable([1024,10])\n",
    "    b_fc2 = bias_variable([10])\n",
    "    fc2 = tf.matmul(fc1_relu_drop,W_fc2)+b_fc2\n",
    "    # prediction = tf.nn.softmax(fc2)\n",
    "    ##fc2_relu_drop = tf.nn.dropout(fc2_relu,keep_Prob)\n",
    "    return fc2"
   ]
  },
  {
   "cell_type": "code",
   "execution_count": null,
   "metadata": {},
   "outputs": [
    {
     "name": "stdout",
     "output_type": "stream",
     "text": [
      "(?, 10)\n",
      "WARNING:tensorflow:From <ipython-input-5-6abb6b9ed393>:15: softmax_cross_entropy_with_logits (from tensorflow.python.ops.nn_ops) is deprecated and will be removed in a future version.\n",
      "Instructions for updating:\n",
      "\n",
      "Future major versions of TensorFlow will allow gradients to flow\n",
      "into the labels input on backprop by default.\n",
      "\n",
      "See tf.nn.softmax_cross_entropy_with_logits_v2.\n",
      "\n",
      "(100, 784)\n",
      "(100, 10)\n",
      "loss: 2018-12-07 10:37:12.871341    Iteration =  0   loss = 11.973\n"
     ]
    }
   ],
   "source": [
    "with tf.Graph().as_default():\n",
    "    ###define placeholder for inputs to network\n",
    "    xs = tf.placeholder(tf.float32,[None,784])  ##28*28，None表示其值大小不定，在这里作为第一个维度值，用以指代batch的大小，意即x的数量不定\n",
    "    ys = tf.placeholder(tf.float32,[None,10])  ##10类输出\n",
    "    keep_prob = tf.placeholder(tf.float32)  ###定义丢掉率\n",
    "    \n",
    "    x_image = tf.reshape(xs,[-1,28,28,1])##shape:[n_sample,28,28,1]\n",
    "    \n",
    "    prediction = model(x_image)\n",
    "    print(prediction.shape)\n",
    "    global_steps = tf.Variable(1, trainable=False)\n",
    "    \n",
    "    # the error between prediction and real data\n",
    "#     cross_entropy = tf.reduce_mean(-tf.reduce_sum(ys * tf.log(prediction),reduction_indices=[1]))       # loss\n",
    "    cross_entropy = tf.reduce_mean(tf.nn.softmax_cross_entropy_with_logits(logits=prediction,labels=ys))\n",
    "    train_step = tf.train.AdamOptimizer(1e-4).minimize(cross_entropy,global_step=global_steps)\n",
    "    \n",
    "    saver = tf.train.Saver()\n",
    "    \n",
    "    format_str = \"%s    Iteration =  %d   loss = %0.3f\"\n",
    "    with tf.Session() as sess:\n",
    "        sess.run(tf.global_variables_initializer())\n",
    "        \n",
    "        for i in range(3000+1):\n",
    "            batch_xs,batch_ys = mnist.train.next_batch(100)\n",
    "            print(batch_xs.shape)\n",
    "            print(batch_ys.shape)\n",
    "            loss_val,_ = sess.run([cross_entropy,train_step],feed_dict={xs:batch_xs,ys:batch_ys,keep_prob:0.5})\n",
    "            \n",
    "            if i % 50 == 0:\n",
    "                print('loss:',format_str%(datetime.now(),i,loss_val))\n",
    "                print('正确率：',compute_accuracy(mnist.test.images,mnist.test.labels))\n",
    "                \n",
    "            if i % 500 == 0:\n",
    "                checkpoint = 'saver_手写数字/' + 'model.ckpt'\n",
    "                saver.save(sess, checkpoint,global_step=global_steps)\n",
    "                \n",
    "        ### 训练结束后，看下测试集和训练集上的正确率\n",
    "        print('test_accuracy:',compute_accuracy(mnist.test.images,mnist.test.labels))\n",
    "        print('train_accuracy:',compute_accuracy(mnist.train.images,mnist.train.labels))\n",
    "         "
   ]
  },
  {
   "cell_type": "code",
   "execution_count": null,
   "metadata": {},
   "outputs": [],
   "source": []
  },
  {
   "cell_type": "code",
   "execution_count": null,
   "metadata": {},
   "outputs": [],
   "source": []
  }
 ],
 "metadata": {
  "kernelspec": {
   "display_name": "Python 3",
   "language": "python",
   "name": "python3"
  },
  "language_info": {
   "codemirror_mode": {
    "name": "ipython",
    "version": 3
   },
   "file_extension": ".py",
   "mimetype": "text/x-python",
   "name": "python",
   "nbconvert_exporter": "python",
   "pygments_lexer": "ipython3",
   "version": "3.5.4"
  }
 },
 "nbformat": 4,
 "nbformat_minor": 2
}
