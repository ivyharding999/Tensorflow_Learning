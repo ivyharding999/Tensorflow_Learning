{
 "cells": [
  {
   "cell_type": "code",
   "execution_count": 1,
   "metadata": {},
   "outputs": [
    {
     "name": "stderr",
     "output_type": "stream",
     "text": [
      "d:\\python\\lib\\site-packages\\h5py\\__init__.py:36: FutureWarning: Conversion of the second argument of issubdtype from `float` to `np.floating` is deprecated. In future, it will be treated as `np.float64 == np.dtype(float).type`.\n",
      "  from ._conv import register_converters as _register_converters\n"
     ]
    }
   ],
   "source": [
    "import tensorflow as tf"
   ]
  },
  {
   "cell_type": "code",
   "execution_count": 2,
   "metadata": {},
   "outputs": [
    {
     "name": "stdout",
     "output_type": "stream",
     "text": [
      "(3, 3)\n"
     ]
    }
   ],
   "source": [
    "#our NN's output\n",
    "\n",
    "logits=tf.constant([[1.0,2.0,3.0],[1.0,2.0,3.0],[1.0,2.0,3.0]])\n",
    "print(logits.shape)"
   ]
  },
  {
   "cell_type": "code",
   "execution_count": 3,
   "metadata": {},
   "outputs": [
    {
     "name": "stdout",
     "output_type": "stream",
     "text": [
      "(3, 3)\n",
      "Tensor(\"Softmax:0\", shape=(3, 3), dtype=float32)\n"
     ]
    }
   ],
   "source": [
    "#step1:do softmax\n",
    "\n",
    "y=tf.nn.softmax(logits)\n",
    "print(y.shape)\n",
    "print(y)"
   ]
  },
  {
   "cell_type": "code",
   "execution_count": 4,
   "metadata": {},
   "outputs": [
    {
     "name": "stdout",
     "output_type": "stream",
     "text": [
      "(3, 1)\n",
      "Tensor(\"Const_1:0\", shape=(3, 1), dtype=float32)\n"
     ]
    }
   ],
   "source": [
    "#true label\n",
    "\n",
    "y_=tf.constant([[0.0],[0.0],[2.0]])\n",
    "print(y_.shape)\n",
    "print(y_)"
   ]
  },
  {
   "cell_type": "code",
   "execution_count": 5,
   "metadata": {},
   "outputs": [
    {
     "name": "stdout",
     "output_type": "stream",
     "text": [
      "(3, 3)\n",
      "Tensor(\"add:0\", shape=(3, 3), dtype=float32)\n",
      "Tensor(\"Neg:0\", shape=(), dtype=float32)\n"
     ]
    }
   ],
   "source": [
    "#step2:do cross_entropy\n",
    "a = y_*tf.log(y)+(1-y_)*tf.log(1-y)\n",
    "print(a.shape)\n",
    "print(a)\n",
    "cross_entropy = -tf.reduce_sum(y_*tf.log(y))\n",
    "print(cross_entropy)"
   ]
  },
  {
   "cell_type": "code",
   "execution_count": 7,
   "metadata": {},
   "outputs": [
    {
     "name": "stdout",
     "output_type": "stream",
     "text": [
      "Tensor(\"ArgMax_2:0\", shape=(3,), dtype=int64)\n",
      "Tensor(\"Const:0\", shape=(3, 3), dtype=float32)\n",
      "(3,)\n",
      "Tensor(\"SparseSoftmaxCrossEntropyWithLogits_1/SparseSoftmaxCrossEntropyWithLogits:0\", shape=(3,), dtype=float32)\n",
      "Tensor(\"Mean_1:0\", shape=(), dtype=float32)\n"
     ]
    }
   ],
   "source": [
    "#do cross_entropy just one step\n",
    "d = tf.argmax(y_, 1)\n",
    "print(d)  # [3,1]\n",
    "print(logits)  # [3,3]\n",
    "# 这里的labels只能是int32或者int64,链接见：   https://www.cnblogs.com/cloud-ken/p/7435660.html\n",
    "b = tf.nn.sparse_softmax_cross_entropy_with_logits(labels=tf.argmax(y_, 1), logits=logits)\n",
    "#b = tf.nn.sparse_softmax_cross_entropy_with_logits(labels=y_, logits=logits)\n",
    "print(b.shape)   # [3,1]\n",
    "print(b)\n",
    "cross_entropy2=tf.reduce_mean(b)#dont forget tf.reduce_sum()!!\n",
    "print(cross_entropy2)   # 一个数"
   ]
  },
  {
   "cell_type": "code",
   "execution_count": null,
   "metadata": {},
   "outputs": [],
   "source": []
  }
 ],
 "metadata": {
  "kernelspec": {
   "display_name": "Python 3",
   "language": "python",
   "name": "python3"
  },
  "language_info": {
   "codemirror_mode": {
    "name": "ipython",
    "version": 3
   },
   "file_extension": ".py",
   "mimetype": "text/x-python",
   "name": "python",
   "nbconvert_exporter": "python",
   "pygments_lexer": "ipython3",
   "version": "3.5.4"
  }
 },
 "nbformat": 4,
 "nbformat_minor": 2
}
